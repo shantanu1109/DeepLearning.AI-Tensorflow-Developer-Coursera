{
  "nbformat": 4,
  "nbformat_minor": 0,
  "metadata": {
    "colab": {
      "name": "Sarcasm_DataSet.ipynb",
      "provenance": [],
      "collapsed_sections": []
    },
    "kernelspec": {
      "name": "python3",
      "display_name": "Python 3"
    },
    "language_info": {
      "name": "python"
    }
  },
  "cells": [
    {
      "cell_type": "code",
      "metadata": {
        "id": "qPYhghf0eEEt"
      },
      "source": [
        "import json\n",
        "import tensorflow as tf\n",
        "from tensorflow.keras.preprocessing.text import Tokenizer\n",
        "from tensorflow.keras.preprocessing.sequence import pad_sequences"
      ],
      "execution_count": 2,
      "outputs": []
    },
    {
      "cell_type": "code",
      "metadata": {
        "id": "MN_-cw1iepYL"
      },
      "source": [
        "# Hyperparameters\n",
        "\n",
        "vocab_size = 10000\n",
        "embedding_dim = 16\n",
        "max_length = 100\n",
        "trunc_type = 'post'\n",
        "padding_type = 'post'\n",
        "oov_tok = \"<OOV>\"\n",
        "training_size = 20000"
      ],
      "execution_count": 3,
      "outputs": []
    },
    {
      "cell_type": "code",
      "metadata": {
        "colab": {
          "base_uri": "https://localhost:8080/"
        },
        "id": "BrOaANPWfQQa",
        "outputId": "7f23b374-7c0f-4e14-a7a5-9ecc1e869472"
      },
      "source": [
        "!wget --no-check-certificate \\\n",
        "    https://storage.googleapis.com/laurencemoroney-blog.appspot.com/sarcasm.json \\\n",
        "    -O /tmp/sarcasm.json"
      ],
      "execution_count": 4,
      "outputs": [
        {
          "output_type": "stream",
          "name": "stdout",
          "text": [
            "--2021-09-21 08:33:36--  https://storage.googleapis.com/laurencemoroney-blog.appspot.com/sarcasm.json\n",
            "Resolving storage.googleapis.com (storage.googleapis.com)... 172.217.13.240, 172.217.15.80, 142.250.188.48, ...\n",
            "Connecting to storage.googleapis.com (storage.googleapis.com)|172.217.13.240|:443... connected.\n",
            "HTTP request sent, awaiting response... 200 OK\n",
            "Length: 5643545 (5.4M) [application/json]\n",
            "Saving to: ‘/tmp/sarcasm.json’\n",
            "\n",
            "/tmp/sarcasm.json   100%[===================>]   5.38M  --.-KB/s    in 0.06s   \n",
            "\n",
            "2021-09-21 08:33:36 (90.8 MB/s) - ‘/tmp/sarcasm.json’ saved [5643545/5643545]\n",
            "\n"
          ]
        }
      ]
    },
    {
      "cell_type": "code",
      "metadata": {
        "id": "O4Ycr_CdfTyq"
      },
      "source": [
        "with open(\"/tmp/sarcasm.json\", 'r') as f:\n",
        "  datastore = json.load(f)\n",
        "\n",
        "sentences  = []\n",
        "labels = []\n",
        "\n",
        "for item in datastore:\n",
        "  sentences.append(item['headline'])\n",
        "  labels.append(item['is_sarcastic'])"
      ],
      "execution_count": 5,
      "outputs": []
    },
    {
      "cell_type": "code",
      "metadata": {
        "id": "ht1shLfKoH5c"
      },
      "source": [
        "training_sentences = sentences[0:training_size]\n",
        "testing_sentences = sentences[training_size:]\n",
        "training_labels = labels[0:training_size]\n",
        "testing_labels = labels[training_size:]"
      ],
      "execution_count": 6,
      "outputs": []
    },
    {
      "cell_type": "code",
      "metadata": {
        "id": "gSCzkNI-oizc"
      },
      "source": [
        "tokenizer = Tokenizer(num_words=vocab_size, oov_token=oov_tok)\n",
        "tokenizer.fit_on_texts(training_sentences)\n",
        "\n",
        "word_index = tokenizer.word_index\n",
        "\n",
        "training_sequences = tokenizer.texts_to_sequences(training_sentences)\n",
        "training_padded = pad_sequences(training_sequences, maxlen=max_length, padding=padding_type, truncating=trunc_type)\n",
        "\n",
        "testing_sequences = tokenizer.texts_to_sequences(testing_sentences)\n",
        "testing_padded = pad_sequences(testing_sequences, maxlen=max_length, padding=padding_type, truncating=trunc_type)"
      ],
      "execution_count": 7,
      "outputs": []
    },
    {
      "cell_type": "code",
      "metadata": {
        "id": "vwsZ-bfco27m"
      },
      "source": [
        "import numpy as np\n",
        "training_padded = np.array(training_padded)\n",
        "training_labels = np.array(training_labels)\n",
        "testing_padded = np.array(testing_padded)\n",
        "testing_labels = np.array(testing_labels)"
      ],
      "execution_count": 8,
      "outputs": []
    },
    {
      "cell_type": "code",
      "metadata": {
        "id": "YwWcOHIGo7CW"
      },
      "source": [
        "model = tf.keras.Sequential([\n",
        "    tf.keras.layers.Embedding(vocab_size, embedding_dim, input_length=max_length),\n",
        "    tf.keras.layers.GlobalAveragePooling1D(),\n",
        "    tf.keras.layers.Dense(24, activation='relu'),\n",
        "    tf.keras.layers.Dense(1, activation='sigmoid')\n",
        "])\n",
        "model.compile(loss='binary_crossentropy',optimizer='adam',metrics=['accuracy'])"
      ],
      "execution_count": 9,
      "outputs": []
    },
    {
      "cell_type": "code",
      "metadata": {
        "colab": {
          "base_uri": "https://localhost:8080/"
        },
        "id": "e0rsCWS3o--j",
        "outputId": "f61414f6-b669-4d70-ae60-4712c47488b4"
      },
      "source": [
        "model.summary()"
      ],
      "execution_count": 10,
      "outputs": [
        {
          "output_type": "stream",
          "name": "stdout",
          "text": [
            "Model: \"sequential\"\n",
            "_________________________________________________________________\n",
            "Layer (type)                 Output Shape              Param #   \n",
            "=================================================================\n",
            "embedding (Embedding)        (None, 100, 16)           160000    \n",
            "_________________________________________________________________\n",
            "global_average_pooling1d (Gl (None, 16)                0         \n",
            "_________________________________________________________________\n",
            "dense (Dense)                (None, 24)                408       \n",
            "_________________________________________________________________\n",
            "dense_1 (Dense)              (None, 1)                 25        \n",
            "=================================================================\n",
            "Total params: 160,433\n",
            "Trainable params: 160,433\n",
            "Non-trainable params: 0\n",
            "_________________________________________________________________\n"
          ]
        }
      ]
    },
    {
      "cell_type": "code",
      "metadata": {
        "colab": {
          "base_uri": "https://localhost:8080/"
        },
        "id": "NaOd1QfXpC4u",
        "outputId": "0f39e74b-7312-4e9f-82a8-d91c9816a1c2"
      },
      "source": [
        "num_epochs = 30\n",
        "history = model.fit(training_padded, training_labels, epochs=num_epochs, validation_data=(testing_padded, testing_labels), verbose=2)"
      ],
      "execution_count": 11,
      "outputs": [
        {
          "output_type": "stream",
          "name": "stdout",
          "text": [
            "Epoch 1/30\n",
            "625/625 - 3s - loss: 0.6671 - accuracy: 0.5819 - val_loss: 0.5947 - val_accuracy: 0.7727\n",
            "Epoch 2/30\n",
            "625/625 - 2s - loss: 0.4404 - accuracy: 0.8245 - val_loss: 0.3870 - val_accuracy: 0.8416\n",
            "Epoch 3/30\n",
            "625/625 - 2s - loss: 0.3106 - accuracy: 0.8780 - val_loss: 0.3572 - val_accuracy: 0.8487\n",
            "Epoch 4/30\n",
            "625/625 - 2s - loss: 0.2584 - accuracy: 0.9000 - val_loss: 0.3463 - val_accuracy: 0.8542\n",
            "Epoch 5/30\n",
            "625/625 - 2s - loss: 0.2232 - accuracy: 0.9132 - val_loss: 0.3460 - val_accuracy: 0.8572\n",
            "Epoch 6/30\n",
            "625/625 - 2s - loss: 0.1967 - accuracy: 0.9247 - val_loss: 0.3649 - val_accuracy: 0.8515\n",
            "Epoch 7/30\n",
            "625/625 - 2s - loss: 0.1740 - accuracy: 0.9355 - val_loss: 0.3649 - val_accuracy: 0.8521\n",
            "Epoch 8/30\n",
            "625/625 - 2s - loss: 0.1554 - accuracy: 0.9426 - val_loss: 0.3797 - val_accuracy: 0.8542\n",
            "Epoch 9/30\n",
            "625/625 - 2s - loss: 0.1407 - accuracy: 0.9488 - val_loss: 0.3974 - val_accuracy: 0.8536\n",
            "Epoch 10/30\n",
            "625/625 - 2s - loss: 0.1264 - accuracy: 0.9550 - val_loss: 0.4203 - val_accuracy: 0.8502\n",
            "Epoch 11/30\n",
            "625/625 - 2s - loss: 0.1169 - accuracy: 0.9592 - val_loss: 0.4394 - val_accuracy: 0.8490\n",
            "Epoch 12/30\n",
            "625/625 - 2s - loss: 0.1042 - accuracy: 0.9654 - val_loss: 0.4669 - val_accuracy: 0.8445\n",
            "Epoch 13/30\n",
            "625/625 - 2s - loss: 0.0964 - accuracy: 0.9683 - val_loss: 0.4910 - val_accuracy: 0.8442\n",
            "Epoch 14/30\n",
            "625/625 - 2s - loss: 0.0882 - accuracy: 0.9704 - val_loss: 0.5273 - val_accuracy: 0.8369\n",
            "Epoch 15/30\n",
            "625/625 - 2s - loss: 0.0804 - accuracy: 0.9739 - val_loss: 0.5468 - val_accuracy: 0.8402\n",
            "Epoch 16/30\n",
            "625/625 - 2s - loss: 0.0731 - accuracy: 0.9765 - val_loss: 0.5864 - val_accuracy: 0.8372\n",
            "Epoch 17/30\n",
            "625/625 - 2s - loss: 0.0699 - accuracy: 0.9773 - val_loss: 0.6259 - val_accuracy: 0.8304\n",
            "Epoch 18/30\n",
            "625/625 - 2s - loss: 0.0637 - accuracy: 0.9793 - val_loss: 0.6448 - val_accuracy: 0.8313\n",
            "Epoch 19/30\n",
            "625/625 - 2s - loss: 0.0587 - accuracy: 0.9822 - val_loss: 0.6792 - val_accuracy: 0.8314\n",
            "Epoch 20/30\n",
            "625/625 - 2s - loss: 0.0516 - accuracy: 0.9846 - val_loss: 0.7284 - val_accuracy: 0.8275\n",
            "Epoch 21/30\n",
            "625/625 - 2s - loss: 0.0474 - accuracy: 0.9862 - val_loss: 0.7485 - val_accuracy: 0.8269\n",
            "Epoch 22/30\n",
            "625/625 - 2s - loss: 0.0440 - accuracy: 0.9865 - val_loss: 0.7971 - val_accuracy: 0.8228\n",
            "Epoch 23/30\n",
            "625/625 - 2s - loss: 0.0439 - accuracy: 0.9866 - val_loss: 0.8379 - val_accuracy: 0.8214\n",
            "Epoch 24/30\n",
            "625/625 - 2s - loss: 0.0382 - accuracy: 0.9894 - val_loss: 0.8993 - val_accuracy: 0.8059\n",
            "Epoch 25/30\n",
            "625/625 - 2s - loss: 0.0355 - accuracy: 0.9902 - val_loss: 0.9427 - val_accuracy: 0.8179\n",
            "Epoch 26/30\n",
            "625/625 - 2s - loss: 0.0325 - accuracy: 0.9905 - val_loss: 0.9432 - val_accuracy: 0.8189\n",
            "Epoch 27/30\n",
            "625/625 - 2s - loss: 0.0295 - accuracy: 0.9917 - val_loss: 0.9620 - val_accuracy: 0.8147\n",
            "Epoch 28/30\n",
            "625/625 - 2s - loss: 0.0280 - accuracy: 0.9927 - val_loss: 1.0020 - val_accuracy: 0.8140\n",
            "Epoch 29/30\n",
            "625/625 - 2s - loss: 0.0255 - accuracy: 0.9933 - val_loss: 1.0335 - val_accuracy: 0.8128\n",
            "Epoch 30/30\n",
            "625/625 - 2s - loss: 0.0230 - accuracy: 0.9941 - val_loss: 1.0814 - val_accuracy: 0.8138\n"
          ]
        }
      ]
    },
    {
      "cell_type": "code",
      "metadata": {
        "colab": {
          "base_uri": "https://localhost:8080/",
          "height": 541
        },
        "id": "GVuLYmolpKQk",
        "outputId": "c3df8489-7f23-47e3-bc2b-8faf7abebe28"
      },
      "source": [
        "import matplotlib.pyplot as plt\n",
        "\n",
        "\n",
        "def plot_graphs(history, string):\n",
        "  plt.plot(history.history[string])\n",
        "  plt.plot(history.history['val_'+string])\n",
        "  plt.xlabel(\"Epochs\")\n",
        "  plt.ylabel(string)\n",
        "  plt.legend([string, 'val_'+string])\n",
        "  plt.show()\n",
        "  \n",
        "plot_graphs(history, \"accuracy\")\n",
        "plot_graphs(history, \"loss\")"
      ],
      "execution_count": 12,
      "outputs": [
        {
          "output_type": "display_data",
          "data": {
            "image/png": "[encoded data removed]",
            "text/plain": [
              "<Figure size 432x288 with 1 Axes>"
            ]
          },
          "metadata": {
            "needs_background": "light"
          }
        },
        {
          "output_type": "display_data",
          "data": {
            "image/png": "[encoded data removed]",
            "text/plain": [
              "<Figure size 432x288 with 1 Axes>"
            ]
          },
          "metadata": {
            "needs_background": "light"
          }
        }
      ]
    },
    {
      "cell_type": "code",
      "metadata": {
        "colab": {
          "base_uri": "https://localhost:8080/"
        },
        "id": "VAzcnBZJqAw3",
        "outputId": "3ddc647e-1754-43f2-90cf-5cd74fd4fe98"
      },
      "source": [
        "reverse_word_index = dict([(value, key) for (key, value) in word_index.items()])\n",
        "\n",
        "def decode_sentence(text):\n",
        "    return ' '.join([reverse_word_index.get(i, '?') for i in text])\n",
        "\n",
        "print(decode_sentence(training_padded[0]))\n",
        "print(training_sentences[2])\n",
        "print(labels[2])"
      ],
      "execution_count": 13,
      "outputs": [
        {
          "output_type": "stream",
          "name": "stdout",
          "text": [
            "former <OOV> store clerk sues over secret 'black <OOV> for minority shoppers ? ? ? ? ? ? ? ? ? ? ? ? ? ? ? ? ? ? ? ? ? ? ? ? ? ? ? ? ? ? ? ? ? ? ? ? ? ? ? ? ? ? ? ? ? ? ? ? ? ? ? ? ? ? ? ? ? ? ? ? ? ? ? ? ? ? ? ? ? ? ? ? ? ? ? ? ? ? ? ? ? ? ? ? ? ? ? ?\n",
            "mom starting to fear son's web series closest thing she will have to grandchild\n",
            "1\n"
          ]
        }
      ]
    },
    {
      "cell_type": "code",
      "metadata": {
        "colab": {
          "base_uri": "https://localhost:8080/"
        },
        "id": "IjhqimQhqCqq",
        "outputId": "59b310c8-7d10-4280-fd42-dd71811d6a72"
      },
      "source": [
        "e = model.layers[0]\n",
        "weights = e.get_weights()[0]\n",
        "print(weights.shape)"
      ],
      "execution_count": 14,
      "outputs": [
        {
          "output_type": "stream",
          "name": "stdout",
          "text": [
            "(10000, 16)\n"
          ]
        }
      ]
    },
    {
      "cell_type": "code",
      "metadata": {
        "colab": {
          "base_uri": "https://localhost:8080/"
        },
        "id": "xeXDnr3PqHwy",
        "outputId": "270508ec-4669-45d2-9895-1bfe25c6ede0"
      },
      "source": [
        "sentence = [\"granny starting to fear spiders in the garden might be real\", \"game of thrones season finale showing this sunday night\"]\n",
        "sequences = tokenizer.texts_to_sequences(sentence)\n",
        "padded = pad_sequences(sequences, maxlen=max_length, padding=padding_type, truncating=trunc_type)\n",
        "print(model.predict(padded))"
      ],
      "execution_count": 15,
      "outputs": [
        {
          "output_type": "stream",
          "name": "stdout",
          "text": [
            "[[8.8700449e-01]\n",
            " [1.1015383e-05]]\n"
          ]
        }
      ]
    }
  ]
}