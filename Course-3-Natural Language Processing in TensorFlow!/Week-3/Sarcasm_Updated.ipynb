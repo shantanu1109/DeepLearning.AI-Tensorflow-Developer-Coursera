{
  "nbformat": 4,
  "nbformat_minor": 0,
  "metadata": {
    "colab": {
      "name": "Sarcasm_Updated.ipynb",
      "provenance": [],
      "collapsed_sections": []
    },
    "kernelspec": {
      "name": "python3",
      "display_name": "Python 3"
    },
    "language_info": {
      "name": "python"
    }
  },
  "cells": [
    {
      "cell_type": "code",
      "metadata": {
        "id": "RGCBEZ7djI6v"
      },
      "source": [
        "import json\n",
        "import tensorflow as tf\n",
        "import numpy as np\n",
        "\n",
        "from tensorflow.keras.preprocessing.text import Tokenizer\n",
        "from tensorflow.keras.preprocessing.sequence import pad_sequences"
      ],
      "execution_count": 7,
      "outputs": []
    },
    {
      "cell_type": "code",
      "metadata": {
        "colab": {
          "base_uri": "https://localhost:8080/"
        },
        "id": "Na2mzcO2jLQd",
        "outputId": "c0c8e8f9-57e4-4220-c555-1e42a39ab4da"
      },
      "source": [
        "!wget --no-check-certificate \\\n",
        "    https://storage.googleapis.com/laurencemoroney-blog.appspot.com/sarcasm.json \\\n",
        "    -O /tmp/sarcasm.json\n"
      ],
      "execution_count": 2,
      "outputs": [
        {
          "output_type": "stream",
          "name": "stdout",
          "text": [
            "--2021-09-21 13:30:24--  https://storage.googleapis.com/laurencemoroney-blog.appspot.com/sarcasm.json\n",
            "Resolving storage.googleapis.com (storage.googleapis.com)... 173.194.210.128, 173.194.211.128, 173.194.213.128, ...\n",
            "Connecting to storage.googleapis.com (storage.googleapis.com)|173.194.210.128|:443... connected.\n",
            "HTTP request sent, awaiting response... 200 OK\n",
            "Length: 5643545 (5.4M) [application/json]\n",
            "Saving to: ‘/tmp/sarcasm.json’\n",
            "\n",
            "\r/tmp/sarcasm.json     0%[                    ]       0  --.-KB/s               \r/tmp/sarcasm.json   100%[===================>]   5.38M  --.-KB/s    in 0.04s   \n",
            "\n",
            "2021-09-21 13:30:24 (134 MB/s) - ‘/tmp/sarcasm.json’ saved [5643545/5643545]\n",
            "\n"
          ]
        }
      ]
    },
    {
      "cell_type": "code",
      "metadata": {
        "id": "2WXq1ZgejPNf"
      },
      "source": [
        "vocab_size = 1000\n",
        "embedding_dim = 16\n",
        "max_length = 120\n",
        "trunc_type='post'\n",
        "padding_type='post'\n",
        "oov_tok = \"<OOV>\"\n",
        "training_size = 20000"
      ],
      "execution_count": 3,
      "outputs": []
    },
    {
      "cell_type": "code",
      "metadata": {
        "id": "sIVAfF_IjTZS"
      },
      "source": [
        "with open(\"/tmp/sarcasm.json\", 'r') as f:\n",
        "    datastore = json.load(f)\n",
        "\n",
        "\n",
        "sentences = []\n",
        "labels = []\n",
        "urls = []\n",
        "for item in datastore:\n",
        "    sentences.append(item['headline'])\n",
        "    labels.append(item['is_sarcastic'])\n",
        "\n",
        "training_sentences = sentences[0:training_size]\n",
        "testing_sentences = sentences[training_size:]\n",
        "training_labels = labels[0:training_size]\n",
        "testing_labels = labels[training_size:]\n",
        "\n",
        "tokenizer = Tokenizer(num_words=vocab_size, oov_token=oov_tok)\n",
        "tokenizer.fit_on_texts(training_sentences)\n",
        "\n",
        "word_index = tokenizer.word_index\n",
        "\n",
        "training_sequences = tokenizer.texts_to_sequences(training_sentences)\n",
        "training_padded = pad_sequences(training_sequences, maxlen=max_length, padding=padding_type, truncating=trunc_type)\n",
        "\n",
        "testing_sequences = tokenizer.texts_to_sequences(testing_sentences)\n",
        "testing_padded = pad_sequences(testing_sequences, maxlen=max_length, padding=padding_type, truncating=trunc_type)\n"
      ],
      "execution_count": 4,
      "outputs": []
    },
    {
      "cell_type": "code",
      "metadata": {
        "colab": {
          "base_uri": "https://localhost:8080/"
        },
        "id": "MTFdcMDpjdpo",
        "outputId": "cc3c64ba-43dc-4de6-ce87-7f2a1fde24f3"
      },
      "source": [
        "model = tf.keras.Sequential([\n",
        "    tf.keras.layers.Embedding(vocab_size, embedding_dim, input_length=max_length),\n",
        "    tf.keras.layers.Bidirectional(tf.keras.layers.LSTM(32)),\n",
        "    tf.keras.layers.Dense(24, activation='relu'),\n",
        "    tf.keras.layers.Dense(1, activation='sigmoid')\n",
        "])\n",
        "model.compile(loss='binary_crossentropy',optimizer='adam',metrics=['accuracy'])\n",
        "model.summary()"
      ],
      "execution_count": 5,
      "outputs": [
        {
          "output_type": "stream",
          "name": "stdout",
          "text": [
            "Model: \"sequential\"\n",
            "_________________________________________________________________\n",
            "Layer (type)                 Output Shape              Param #   \n",
            "=================================================================\n",
            "embedding (Embedding)        (None, 120, 16)           16000     \n",
            "_________________________________________________________________\n",
            "bidirectional (Bidirectional (None, 64)                12544     \n",
            "_________________________________________________________________\n",
            "dense (Dense)                (None, 24)                1560      \n",
            "_________________________________________________________________\n",
            "dense_1 (Dense)              (None, 1)                 25        \n",
            "=================================================================\n",
            "Total params: 30,129\n",
            "Trainable params: 30,129\n",
            "Non-trainable params: 0\n",
            "_________________________________________________________________\n"
          ]
        }
      ]
    },
    {
      "cell_type": "code",
      "metadata": {
        "colab": {
          "base_uri": "https://localhost:8080/"
        },
        "id": "rpyks8ymjjDa",
        "outputId": "001ecac7-f874-4637-9774-1a2c0d328c94"
      },
      "source": [
        "num_epochs = 50\n",
        "training_padded = np.array(training_padded)\n",
        "training_labels = np.array(training_labels)\n",
        "testing_padded = np.array(testing_padded)\n",
        "testing_labels = np.array(testing_labels)\n",
        "history = model.fit(training_padded, training_labels, epochs=num_epochs, validation_data=(testing_padded, testing_labels), verbose=1)"
      ],
      "execution_count": 6,
      "outputs": [
        {
          "output_type": "stream",
          "name": "stdout",
          "text": [
            "Epoch 1/50\n",
            "625/625 [==============================] - 44s 65ms/step - loss: 0.4587 - accuracy: 0.7665 - val_loss: 0.3877 - val_accuracy: 0.8216\n",
            "Epoch 2/50\n",
            "625/625 [==============================] - 40s 64ms/step - loss: 0.3590 - accuracy: 0.8352 - val_loss: 0.3853 - val_accuracy: 0.8210\n",
            "Epoch 3/50\n",
            "625/625 [==============================] - 41s 65ms/step - loss: 0.3385 - accuracy: 0.8467 - val_loss: 0.3851 - val_accuracy: 0.8249\n",
            "Epoch 4/50\n",
            "625/625 [==============================] - 40s 64ms/step - loss: 0.3222 - accuracy: 0.8560 - val_loss: 0.3719 - val_accuracy: 0.8301\n",
            "Epoch 5/50\n",
            "625/625 [==============================] - 40s 64ms/step - loss: 0.3102 - accuracy: 0.8620 - val_loss: 0.3789 - val_accuracy: 0.8307\n",
            "Epoch 6/50\n",
            "625/625 [==============================] - 40s 64ms/step - loss: 0.2997 - accuracy: 0.8668 - val_loss: 0.3846 - val_accuracy: 0.8337\n",
            "Epoch 7/50\n",
            "625/625 [==============================] - 40s 64ms/step - loss: 0.2911 - accuracy: 0.8721 - val_loss: 0.3862 - val_accuracy: 0.8351\n",
            "Epoch 8/50\n",
            "625/625 [==============================] - 41s 65ms/step - loss: 0.2845 - accuracy: 0.8749 - val_loss: 0.3766 - val_accuracy: 0.8359\n",
            "Epoch 9/50\n",
            "625/625 [==============================] - 40s 65ms/step - loss: 0.2773 - accuracy: 0.8773 - val_loss: 0.3771 - val_accuracy: 0.8319\n",
            "Epoch 10/50\n",
            "625/625 [==============================] - 40s 64ms/step - loss: 0.2698 - accuracy: 0.8837 - val_loss: 0.3933 - val_accuracy: 0.8296\n",
            "Epoch 11/50\n",
            "625/625 [==============================] - 40s 64ms/step - loss: 0.2640 - accuracy: 0.8862 - val_loss: 0.3975 - val_accuracy: 0.8301\n",
            "Epoch 12/50\n",
            "625/625 [==============================] - 40s 65ms/step - loss: 0.2560 - accuracy: 0.8879 - val_loss: 0.4336 - val_accuracy: 0.8293\n",
            "Epoch 13/50\n",
            "625/625 [==============================] - 41s 66ms/step - loss: 0.2496 - accuracy: 0.8925 - val_loss: 0.4192 - val_accuracy: 0.8278\n",
            "Epoch 14/50\n",
            "625/625 [==============================] - 40s 64ms/step - loss: 0.2415 - accuracy: 0.8960 - val_loss: 0.4021 - val_accuracy: 0.8278\n",
            "Epoch 15/50\n",
            "625/625 [==============================] - 40s 64ms/step - loss: 0.2353 - accuracy: 0.8996 - val_loss: 0.4264 - val_accuracy: 0.8298\n",
            "Epoch 16/50\n",
            "625/625 [==============================] - 40s 64ms/step - loss: 0.2251 - accuracy: 0.9049 - val_loss: 0.4488 - val_accuracy: 0.8256\n",
            "Epoch 17/50\n",
            "625/625 [==============================] - 42s 67ms/step - loss: 0.2201 - accuracy: 0.9069 - val_loss: 0.4622 - val_accuracy: 0.8208\n",
            "Epoch 18/50\n",
            "625/625 [==============================] - 40s 65ms/step - loss: 0.2075 - accuracy: 0.9130 - val_loss: 0.4827 - val_accuracy: 0.8158\n",
            "Epoch 19/50\n",
            "625/625 [==============================] - 40s 64ms/step - loss: 0.2009 - accuracy: 0.9153 - val_loss: 0.4888 - val_accuracy: 0.8198\n",
            "Epoch 20/50\n",
            "625/625 [==============================] - 40s 64ms/step - loss: 0.1933 - accuracy: 0.9197 - val_loss: 0.5076 - val_accuracy: 0.8144\n",
            "Epoch 21/50\n",
            "625/625 [==============================] - 40s 64ms/step - loss: 0.1831 - accuracy: 0.9247 - val_loss: 0.5620 - val_accuracy: 0.8107\n",
            "Epoch 22/50\n",
            "625/625 [==============================] - 41s 66ms/step - loss: 0.1768 - accuracy: 0.9281 - val_loss: 0.5902 - val_accuracy: 0.8143\n",
            "Epoch 23/50\n",
            "625/625 [==============================] - 44s 70ms/step - loss: 0.1678 - accuracy: 0.9332 - val_loss: 0.5780 - val_accuracy: 0.8067\n",
            "Epoch 24/50\n",
            "625/625 [==============================] - 41s 66ms/step - loss: 0.1606 - accuracy: 0.9348 - val_loss: 0.6192 - val_accuracy: 0.8129\n",
            "Epoch 25/50\n",
            "625/625 [==============================] - 40s 64ms/step - loss: 0.1523 - accuracy: 0.9406 - val_loss: 0.6687 - val_accuracy: 0.8097\n",
            "Epoch 26/50\n",
            "625/625 [==============================] - 41s 65ms/step - loss: 0.1469 - accuracy: 0.9413 - val_loss: 0.6788 - val_accuracy: 0.8032\n",
            "Epoch 27/50\n",
            "625/625 [==============================] - 41s 65ms/step - loss: 0.1396 - accuracy: 0.9439 - val_loss: 0.7742 - val_accuracy: 0.8059\n",
            "Epoch 28/50\n",
            "625/625 [==============================] - 40s 65ms/step - loss: 0.1288 - accuracy: 0.9491 - val_loss: 0.8984 - val_accuracy: 0.8047\n",
            "Epoch 29/50\n",
            "625/625 [==============================] - 40s 64ms/step - loss: 0.1258 - accuracy: 0.9504 - val_loss: 0.8427 - val_accuracy: 0.8056\n",
            "Epoch 30/50\n",
            "625/625 [==============================] - 40s 64ms/step - loss: 0.1193 - accuracy: 0.9528 - val_loss: 0.8909 - val_accuracy: 0.8009\n",
            "Epoch 31/50\n",
            "625/625 [==============================] - 40s 65ms/step - loss: 0.1148 - accuracy: 0.9542 - val_loss: 0.9668 - val_accuracy: 0.8030\n",
            "Epoch 32/50\n",
            "625/625 [==============================] - 40s 65ms/step - loss: 0.1106 - accuracy: 0.9556 - val_loss: 0.9540 - val_accuracy: 0.8004\n",
            "Epoch 33/50\n",
            "625/625 [==============================] - 40s 64ms/step - loss: 0.1081 - accuracy: 0.9548 - val_loss: 1.0656 - val_accuracy: 0.8022\n",
            "Epoch 34/50\n",
            "625/625 [==============================] - 41s 65ms/step - loss: 0.0967 - accuracy: 0.9616 - val_loss: 1.1536 - val_accuracy: 0.7986\n",
            "Epoch 35/50\n",
            "625/625 [==============================] - 41s 66ms/step - loss: 0.0922 - accuracy: 0.9631 - val_loss: 1.2062 - val_accuracy: 0.8010\n",
            "Epoch 36/50\n",
            "625/625 [==============================] - 44s 70ms/step - loss: 0.0908 - accuracy: 0.9639 - val_loss: 1.1756 - val_accuracy: 0.7977\n",
            "Epoch 37/50\n",
            "625/625 [==============================] - 44s 70ms/step - loss: 0.0893 - accuracy: 0.9637 - val_loss: 1.3156 - val_accuracy: 0.8003\n",
            "Epoch 38/50\n",
            "625/625 [==============================] - 40s 64ms/step - loss: 0.0875 - accuracy: 0.9645 - val_loss: 1.2321 - val_accuracy: 0.8004\n",
            "Epoch 39/50\n",
            "625/625 [==============================] - 40s 65ms/step - loss: 0.0799 - accuracy: 0.9682 - val_loss: 1.3673 - val_accuracy: 0.8010\n",
            "Epoch 40/50\n",
            "625/625 [==============================] - 42s 67ms/step - loss: 0.0789 - accuracy: 0.9679 - val_loss: 1.4041 - val_accuracy: 0.7974\n",
            "Epoch 41/50\n",
            "625/625 [==============================] - 41s 66ms/step - loss: 0.0755 - accuracy: 0.9682 - val_loss: 1.3763 - val_accuracy: 0.8001\n",
            "Epoch 42/50\n",
            "625/625 [==============================] - 42s 66ms/step - loss: 0.0747 - accuracy: 0.9695 - val_loss: 1.5285 - val_accuracy: 0.7942\n",
            "Epoch 43/50\n",
            "625/625 [==============================] - 40s 64ms/step - loss: 0.0694 - accuracy: 0.9700 - val_loss: 1.5251 - val_accuracy: 0.7965\n",
            "Epoch 44/50\n",
            "625/625 [==============================] - 40s 64ms/step - loss: 0.0645 - accuracy: 0.9732 - val_loss: 1.6041 - val_accuracy: 0.7910\n",
            "Epoch 45/50\n",
            "625/625 [==============================] - 41s 66ms/step - loss: 0.0715 - accuracy: 0.9708 - val_loss: 1.5544 - val_accuracy: 0.7948\n",
            "Epoch 46/50\n",
            "625/625 [==============================] - 42s 67ms/step - loss: 0.0682 - accuracy: 0.9710 - val_loss: 1.5351 - val_accuracy: 0.7991\n",
            "Epoch 47/50\n",
            "625/625 [==============================] - 42s 67ms/step - loss: 0.0622 - accuracy: 0.9735 - val_loss: 1.6864 - val_accuracy: 0.7974\n",
            "Epoch 48/50\n",
            "625/625 [==============================] - 41s 65ms/step - loss: 0.0604 - accuracy: 0.9736 - val_loss: 1.7959 - val_accuracy: 0.7970\n",
            "Epoch 49/50\n",
            "625/625 [==============================] - 41s 65ms/step - loss: 0.0601 - accuracy: 0.9742 - val_loss: 1.7550 - val_accuracy: 0.7952\n",
            "Epoch 50/50\n",
            "625/625 [==============================] - 41s 66ms/step - loss: 0.0611 - accuracy: 0.9736 - val_loss: 1.7561 - val_accuracy: 0.7953\n"
          ]
        }
      ]
    },
    {
      "cell_type": "code",
      "metadata": {
        "colab": {
          "base_uri": "https://localhost:8080/",
          "height": 541
        },
        "id": "xGlmFlsljptw",
        "outputId": "efa18708-4a4b-4c9b-bc8b-03e06c828c99"
      },
      "source": [
        "import matplotlib.pyplot as plt\n",
        "\n",
        "\n",
        "def plot_graphs(history, string):\n",
        "  plt.plot(history.history[string])\n",
        "  plt.plot(history.history['val_'+string])\n",
        "  plt.xlabel(\"Epochs\")\n",
        "  plt.ylabel(string)\n",
        "  plt.legend([string, 'val_'+string])\n",
        "  plt.show()\n",
        "\n",
        "plot_graphs(history, 'accuracy')\n",
        "plot_graphs(history, 'loss')"
      ],
      "execution_count": 8,
      "outputs": [
        {
          "output_type": "display_data",
          "data": {
            "image/png": "[encoded data removed]",
            "text/plain": [
              "<Figure size 432x288 with 1 Axes>"
            ]
          },
          "metadata": {
            "needs_background": "light"
          }
        },
        {
          "output_type": "display_data",
          "data": {
            "image/png": "[encoded data removed]",
            "text/plain": [
              "<Figure size 432x288 with 1 Axes>"
            ]
          },
          "metadata": {
            "needs_background": "light"
          }
        }
      ]
    }
  ]
}