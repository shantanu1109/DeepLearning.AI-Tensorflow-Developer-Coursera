{
 "cells": [
  {
   "cell_type": "markdown",
   "metadata": {},
   "source": [
    "In the course you learned how to do classificaiton using Fashion MNIST, a data set containing items of clothing. There's another, similar dataset called MNIST which has items of handwriting -- the digits 0 through 9.\n",
    "\n",
    "Write an MNIST classifier that trains to 99% accuracy or above, and does it without a fixed number of epochs -- i.e. you should stop training once you reach that level of accuracy.\n",
    "\n",
    "Some notes:\n",
    "\n",
    "It should succeed in less than 10 epochs, so it is okay to change epochs= to 10, but nothing larger\n",
    "When it reaches 99% or greater it should print out the string \"Reached 99% accuracy so cancelling training!\"\n",
    "If you add any additional variables, make sure you use the same names as the ones used in the class\n",
    "I've started the code for you below -- how would you finish it?"
   ]
  },
  {
   "cell_type": "code",
   "execution_count": 1,
   "metadata": {},
   "outputs": [],
   "source": [
    "import tensorflow as tf"
   ]
  },
  {
   "cell_type": "code",
   "execution_count": 2,
   "metadata": {},
   "outputs": [],
   "source": [
    "class myCallback(tf.keras.callbacks.Callback):\n",
    "    def on_epoch_end(self, epoch, logs={}):\n",
    "        if(logs.get('accuracy')>0.99):\n",
    "            print(\"\\nReached 99% accuracy so cancelling training!\")\n",
    "            self.model.stop_training = True"
   ]
  },
  {
   "cell_type": "code",
   "execution_count": 3,
   "metadata": {},
   "outputs": [],
   "source": [
    "mnist = tf.keras.datasets.fashion_mnist"
   ]
  },
  {
   "cell_type": "code",
   "execution_count": 4,
   "metadata": {},
   "outputs": [],
   "source": [
    "(training_images, training_labels), (test_images, test_labels) = mnist.load_data()"
   ]
  },
  {
   "cell_type": "code",
   "execution_count": 5,
   "metadata": {},
   "outputs": [],
   "source": [
    "training_images = training_images / 255.0\n",
    "test_images = test_images / 255.0"
   ]
  },
  {
   "cell_type": "code",
   "execution_count": 6,
   "metadata": {},
   "outputs": [],
   "source": [
    "callbacks = myCallback()"
   ]
  },
  {
   "cell_type": "code",
   "execution_count": 7,
   "metadata": {},
   "outputs": [],
   "source": [
    "model = tf.keras.models.Sequential([\n",
    "    tf.keras.layers.Flatten(input_shape = (28, 28)),\n",
    "    tf.keras.layers.Dense(256, activation = tf.nn.relu),\n",
    "    tf.keras.layers.Dense(10, activation = tf.nn.softmax)\n",
    "])"
   ]
  },
  {
   "cell_type": "code",
   "execution_count": 8,
   "metadata": {},
   "outputs": [
    {
     "name": "stdout",
     "output_type": "stream",
     "text": [
      "Train on 60000 samples\n",
      "Epoch 1/50\n",
      "60000/60000 [==============================] - 8s 137us/sample - loss: 0.4838 - accuracy: 0.8275\n",
      "Epoch 2/50\n",
      "60000/60000 [==============================] - 4s 65us/sample - loss: 0.3634 - accuracy: 0.8661\n",
      "Epoch 3/50\n",
      "60000/60000 [==============================] - 4s 61us/sample - loss: 0.3239 - accuracy: 0.8814\n",
      "Epoch 4/50\n",
      "60000/60000 [==============================] - 4s 64us/sample - loss: 0.3034 - accuracy: 0.8895\n",
      "Epoch 5/50\n",
      "60000/60000 [==============================] - 4s 63us/sample - loss: 0.2844 - accuracy: 0.8946\n",
      "Epoch 6/50\n",
      "60000/60000 [==============================] - 4s 61us/sample - loss: 0.2705 - accuracy: 0.8988\n",
      "Epoch 7/50\n",
      "60000/60000 [==============================] - 4s 67us/sample - loss: 0.2576 - accuracy: 0.9035\n",
      "Epoch 8/50\n",
      "60000/60000 [==============================] - 4s 63us/sample - loss: 0.2454 - accuracy: 0.9082s - loss: 0.2445 \n",
      "Epoch 9/50\n",
      "60000/60000 [==============================] - 4s 63us/sample - loss: 0.2362 - accuracy: 0.9122\n",
      "Epoch 10/50\n",
      "60000/60000 [==============================] - 4s 61us/sample - loss: 0.2264 - accuracy: 0.9156\n",
      "Epoch 11/50\n",
      "60000/60000 [==============================] - 4s 67us/sample - loss: 0.2180 - accuracy: 0.9186\n",
      "Epoch 12/50\n",
      "60000/60000 [==============================] - 4s 62us/sample - loss: 0.2094 - accuracy: 0.9211\n",
      "Epoch 13/50\n",
      "60000/60000 [==============================] - 4s 64us/sample - loss: 0.2038 - accuracy: 0.9235\n",
      "Epoch 14/50\n",
      "60000/60000 [==============================] - 4s 68us/sample - loss: 0.1969 - accuracy: 0.9255\n",
      "Epoch 15/50\n",
      "60000/60000 [==============================] - 4s 65us/sample - loss: 0.1916 - accuracy: 0.9275\n",
      "Epoch 16/50\n",
      "60000/60000 [==============================] - 4s 60us/sample - loss: 0.1829 - accuracy: 0.9309\n",
      "Epoch 17/50\n",
      "60000/60000 [==============================] - 4s 63us/sample - loss: 0.1783 - accuracy: 0.9338\n",
      "Epoch 18/50\n",
      "60000/60000 [==============================] - 4s 61us/sample - loss: 0.1737 - accuracy: 0.9337\n",
      "Epoch 19/50\n",
      "60000/60000 [==============================] - 4s 61us/sample - loss: 0.1692 - accuracy: 0.9354\n",
      "Epoch 20/50\n",
      "60000/60000 [==============================] - 4s 60us/sample - loss: 0.1647 - accuracy: 0.9372\n",
      "Epoch 21/50\n",
      "60000/60000 [==============================] - 4s 63us/sample - loss: 0.1574 - accuracy: 0.9401\n",
      "Epoch 22/50\n",
      "60000/60000 [==============================] - 4s 63us/sample - loss: 0.1565 - accuracy: 0.9403\n",
      "Epoch 23/50\n",
      "60000/60000 [==============================] - 4s 61us/sample - loss: 0.1480 - accuracy: 0.9443\n",
      "Epoch 24/50\n",
      "60000/60000 [==============================] - 4s 61us/sample - loss: 0.1457 - accuracy: 0.9450\n",
      "Epoch 25/50\n",
      "60000/60000 [==============================] - 4s 61us/sample - loss: 0.1424 - accuracy: 0.9461\n",
      "Epoch 26/50\n",
      "60000/60000 [==============================] - 4s 64us/sample - loss: 0.1373 - accuracy: 0.9471\n",
      "Epoch 27/50\n",
      "60000/60000 [==============================] - 4s 62us/sample - loss: 0.1343 - accuracy: 0.9478\n",
      "Epoch 28/50\n",
      "60000/60000 [==============================] - 4s 65us/sample - loss: 0.1303 - accuracy: 0.9505\n",
      "Epoch 29/50\n",
      "60000/60000 [==============================] - 4s 62us/sample - loss: 0.1270 - accuracy: 0.9520\n",
      "Epoch 30/50\n",
      "60000/60000 [==============================] - 4s 64us/sample - loss: 0.1250 - accuracy: 0.9528\n",
      "Epoch 31/50\n",
      "60000/60000 [==============================] - 4s 61us/sample - loss: 0.1209 - accuracy: 0.9547\n",
      "Epoch 32/50\n",
      "60000/60000 [==============================] - 4s 61us/sample - loss: 0.1185 - accuracy: 0.9559\n",
      "Epoch 33/50\n",
      "60000/60000 [==============================] - 4s 61us/sample - loss: 0.1169 - accuracy: 0.9560\n",
      "Epoch 34/50\n",
      "60000/60000 [==============================] - 4s 70us/sample - loss: 0.1119 - accuracy: 0.9580\n",
      "Epoch 35/50\n",
      "60000/60000 [==============================] - 4s 62us/sample - loss: 0.1117 - accuracy: 0.9579\n",
      "Epoch 36/50\n",
      "60000/60000 [==============================] - 4s 62us/sample - loss: 0.1085 - accuracy: 0.9585\n",
      "Epoch 37/50\n",
      "60000/60000 [==============================] - 4s 66us/sample - loss: 0.1061 - accuracy: 0.9603\n",
      "Epoch 38/50\n",
      "60000/60000 [==============================] - 4s 62us/sample - loss: 0.1041 - accuracy: 0.9606\n",
      "Epoch 39/50\n",
      "60000/60000 [==============================] - 4s 63us/sample - loss: 0.1037 - accuracy: 0.9612\n",
      "Epoch 40/50\n",
      "60000/60000 [==============================] - 4s 61us/sample - loss: 0.1034 - accuracy: 0.9615\n",
      "Epoch 41/50\n",
      "60000/60000 [==============================] - 4s 63us/sample - loss: 0.0963 - accuracy: 0.9637\n",
      "Epoch 42/50\n",
      "60000/60000 [==============================] - 4s 61us/sample - loss: 0.0964 - accuracy: 0.9636\n",
      "Epoch 43/50\n",
      "60000/60000 [==============================] - 4s 64us/sample - loss: 0.0947 - accuracy: 0.9639\n",
      "Epoch 44/50\n",
      "60000/60000 [==============================] - 4s 62us/sample - loss: 0.0915 - accuracy: 0.9655\n",
      "Epoch 45/50\n",
      "60000/60000 [==============================] - 4s 62us/sample - loss: 0.0897 - accuracy: 0.9653\n",
      "Epoch 46/50\n",
      "60000/60000 [==============================] - 4s 61us/sample - loss: 0.0916 - accuracy: 0.9657\n",
      "Epoch 47/50\n",
      "60000/60000 [==============================] - 4s 65us/sample - loss: 0.0854 - accuracy: 0.9680\n",
      "Epoch 48/50\n",
      "60000/60000 [==============================] - 4s 62us/sample - loss: 0.0838 - accuracy: 0.9681\n",
      "Epoch 49/50\n",
      "60000/60000 [==============================] - 4s 62us/sample - loss: 0.0858 - accuracy: 0.9680\n",
      "Epoch 50/50\n",
      "60000/60000 [==============================] - 4s 62us/sample - loss: 0.0814 - accuracy: 0.9694\n"
     ]
    }
   ],
   "source": [
    "model.compile(optimizer = 'adam', loss = 'sparse_categorical_crossentropy', metrics = ['accuracy'])\n",
    "\n",
    "history = model.fit(training_images, training_labels, epochs = 50, callbacks=[callbacks])"
   ]
  }
 ],
 "metadata": {
  "kernelspec": {
   "display_name": "Python 3",
   "language": "python",
   "name": "python3"
  },
  "language_info": {
   "codemirror_mode": {
    "name": "ipython",
    "version": 3
   },
   "file_extension": ".py",
   "mimetype": "text/x-python",
   "name": "python",
   "nbconvert_exporter": "python",
   "pygments_lexer": "ipython3",
   "version": "3.6.10"
  }
 },
 "nbformat": 4,
 "nbformat_minor": 4
}
